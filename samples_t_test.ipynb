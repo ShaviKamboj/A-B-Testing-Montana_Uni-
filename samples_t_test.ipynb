{
  "cells": [
    {
      "cell_type": "markdown",
      "metadata": {
        "id": "NSgWQTgQbSxI"
      },
      "source": [
        "# Code along: 2-sample t-test\n",
        "\n",
        "We use a 2-sample t-test when comparing 2 samples and we're dealing with numerical data (time duration, money spent, weight...)."
      ]
    },
    {
      "cell_type": "markdown",
      "source": [
        "## 1. Introduction & data\n",
        "\n",
        "Watch this Khan Academy video to get the context of the example we will use in this notebook. Watch how the calculations to find the p-value are made by hand:\n",
        "https://www.youtube.com/watch?v=NkGvw18zlGQ"
      ],
      "metadata": {
        "id": "riBNo0e-Nyd5"
      }
    },
    {
      "cell_type": "code",
      "execution_count": 1,
      "metadata": {
        "id": "m74uqgQebSxK"
      },
      "outputs": [],
      "source": [
        "import scipy.stats as stats\n",
        "import numpy as np\n",
        "import pandas as pd"
      ]
    },
    {
      "cell_type": "markdown",
      "source": [
        "**Experiment definition**: \n",
        "\n",
        "1. We want to test the effect of using two different fertilizers on tomato plants. \n",
        "2. We will apply these two fertilizers to the plants in two fields, A and B, and wait for the plants to grow.\n",
        "3. Then, we will take two random samples of plants from both fields and we will measure them.\n",
        "4. Our goal is to determine if the plants exposed to one of the two fertilizers have grown higher, on average. \n",
        "\n",
        "Let's define the experiment formally with the Null and the Alternative Hypothesis. We can phrase them in several ways:\n",
        "\n",
        "* **Null Hypothesis**: \n",
        "  * mean height of plants in field A = mean height of plants in field B\n",
        "  * the difference between the mean height of the plants in fields A and B (expressed as d) is zero, so **d = 0**\n",
        "* **Alternative Hypothesis**: \n",
        "  * mean height of plants in field A != mean height of plants in field B\n",
        "  * the difference between the mean height of the plants in fields A and B is not zero, so **d != 0**"
      ],
      "metadata": {
        "id": "UBlwTZeANJPM"
      }
    },
    {
      "cell_type": "markdown",
      "metadata": {
        "id": "R4QnYnYtbSxM"
      },
      "source": [
        "Below's our collected data:\n",
        "\n",
        "\n",
        "\n",
        "> *Note: we've generated 2 samples with the same means and standard deviations of fields A and B from Khan Academy's video, so you can follow the video and the code along in parallel.*\n",
        "\n"
      ]
    },
    {
      "cell_type": "code",
      "execution_count": null,
      "metadata": {
        "colab": {
          "base_uri": "https://localhost:8080/"
        },
        "id": "1FkFcjn0bSxM",
        "outputId": "6347dfb7-d226-47bc-8b4f-9c18fc908a3d"
      },
      "outputs": [
        {
          "output_type": "stream",
          "name": "stdout",
          "text": [
            "mean plant height in field A: 1.300054532727273\n",
            "standard deviation of plants in field A: 0.500003892354737\n"
          ]
        }
      ],
      "source": [
        "f_a = np.array([1.53021758, 0.70571215, 2.01610148, 1.14367405, 0.93970563,\n",
        "       1.74358147, 1.72979421, 0.99173825, 1.30784819, 0.18865752,\n",
        "       1.92501786, 1.79597301, 1.77666206, 0.54937259, 1.13296132,\n",
        "       1.40105918, 1.60272671, 1.44154697, 1.9605791 , 0.52757822,\n",
        "       1.19867684, 0.99201533])\n",
        "\n",
        "print(\"mean plant height in field A:\", np.mean(f_a))\n",
        "print(\"standard deviation of plants in field A:\", np.std(f_a))"
      ]
    },
    {
      "cell_type": "code",
      "execution_count": null,
      "metadata": {
        "colab": {
          "base_uri": "https://localhost:8080/"
        },
        "id": "NzctVnS4bSxO",
        "outputId": "25f3bddc-c8f2-4161-8f03-182380fc202e"
      },
      "outputs": [
        {
          "output_type": "stream",
          "name": "stdout",
          "text": [
            "mean plant height in field A: 1.6000459270833332\n",
            "standard deviation of plants in field B: 0.30002173916596514\n"
          ]
        }
      ],
      "source": [
        "f_b = np.array([1.65802641, 1.76603167, 1.89544547, 1.45920841, 1.80266623,\n",
        "       0.80989183, 1.54506744, 1.85769076, 1.48064793, 1.7310313 ,\n",
        "       1.91207357, 1.71378148, 1.70911519, 1.56339253, 1.63741389,\n",
        "       1.50316156, 1.85250241, 2.15778815, 1.62285988, 1.43006622,\n",
        "       1.61084258, 0.97720672, 1.67433766, 1.03085296])\n",
        "\n",
        "print(\"mean plant height in field A:\", np.mean(f_b))\n",
        "print(\"standard deviation of plants in field B:\", np.std(f_b))"
      ]
    },
    {
      "cell_type": "markdown",
      "source": [
        "The difference between the observed sample means is `0.3`:"
      ],
      "metadata": {
        "id": "KqM8G-fyL9PH"
      }
    },
    {
      "cell_type": "code",
      "source": [
        "round(np.mean(f_b) - np.mean(f_a), 2)"
      ],
      "metadata": {
        "colab": {
          "base_uri": "https://localhost:8080/"
        },
        "id": "kn_0fPndMH0v",
        "outputId": "53857004-4c31-4451-c2ae-6e87755f56fa"
      },
      "execution_count": null,
      "outputs": [
        {
          "output_type": "execute_result",
          "data": {
            "text/plain": [
              "0.3"
            ]
          },
          "metadata": {},
          "execution_count": 20
        }
      ]
    },
    {
      "cell_type": "markdown",
      "metadata": {
        "id": "F0NgSZfnbSxO"
      },
      "source": [
        "## 2. Permutation Test\n",
        "\n",
        "In a permutation procedure, two or more samples are involved, typically the groups in an A/B or other hypothesis test. *Permute* means to change the order of a set of values. The first step in a permutation test of a hypothesis is to combine the results from groups A and B (and, if used, C, D,…). This is the logical embodiment of the null hypothesis that the treatments to which the groups were exposed do not differ. We then test that hypothesis by randomly drawing groups from this combined set and seeing how much they differ from one another. The permutation procedure is as follows:\n",
        "\n",
        "1. Combine the results from the different groups into a single data set.\n",
        "2. Shuffle the combined data and then randomly draw (without replacement) a resample of the same size as group A (clearly it will contain some data from the other groups).\n",
        "3. From the remaining data, randomly draw (without replacement) a resample of the same size as group B.\n",
        "4. Do the same for groups C, D, and so on. You have now collected one set of resamples that mirror the sizes of the original samples.\n",
        "5. Whatever statistic or estimate was calculated for the original samples (e.g., difference in means or group proportions), calculate it now for the resamples, and record; this\n",
        "constitutes one permutation iteration.\n",
        "6. Repeat the previous steps R times to yield a permutation distribution of the test statistic."
      ]
    },
    {
      "cell_type": "markdown",
      "source": [
        "### 2.1. Concatenate together the two samples into a single \"box\", where we have all the observations together\n",
        "\n",
        "We are combining and mixing together all the plants in a single data set —we will pretend they belong to the same field, the same population.\n",
        "\n",
        "Note that this is what the Null Hypothesis implies: that all plants belong to the same population (or belong to populations with equal means)."
      ],
      "metadata": {
        "id": "SuI0vBdPOXdW"
      }
    },
    {
      "cell_type": "code",
      "execution_count": null,
      "metadata": {
        "id": "wQRDSHdwbSxP"
      },
      "outputs": [],
      "source": [
        "import pandas as pd\n",
        "a_b_together = pd.Series(np.concatenate([f_a, f_b]))"
      ]
    },
    {
      "cell_type": "markdown",
      "source": [
        "### 2.2. We take 2 new random resamples of the same size of A and B, from the \"box\" we created\n",
        "\n",
        "Here, we are observing what effect can \"chance\" have in taking 2 random resamples from the very same population.\n",
        "\n",
        "Note that we make sure that the sizes of the new resamples are of the same size of the original ones, in this case `22` and `24`."
      ],
      "metadata": {
        "id": "n0WOesmjOoJu"
      }
    },
    {
      "cell_type": "code",
      "execution_count": null,
      "metadata": {
        "id": "C5mDeaMjbSxP"
      },
      "outputs": [],
      "source": [
        "# new sample A, random without replacement\n",
        "# the sample size is len(f_a) = 22\n",
        "s_a = a_b_together.sample(len(f_a))"
      ]
    },
    {
      "cell_type": "code",
      "execution_count": null,
      "metadata": {
        "id": "ixjv84FkbSxQ"
      },
      "outputs": [],
      "source": [
        "# new sample B, defined as all observations from a_b together\n",
        "# not present in sample A\n",
        "s_b = a_b_together[~a_b_together.index.isin(s_a.index)]"
      ]
    },
    {
      "cell_type": "code",
      "execution_count": null,
      "metadata": {
        "colab": {
          "base_uri": "https://localhost:8080/"
        },
        "id": "t2Fhl5wnbSxQ",
        "outputId": "6e5ec444-5f92-49ad-86bd-083e4bbb04da"
      },
      "outputs": [
        {
          "output_type": "execute_result",
          "data": {
            "text/plain": [
              "array([ True,  True,  True,  True,  True, False,  True, False,  True,\n",
              "        True, False, False, False, False,  True,  True,  True,  True,\n",
              "       False, False, False, False,  True,  True, False, False, False,\n",
              "        True, False, False, False,  True, False, False, False,  True,\n",
              "        True,  True,  True,  True,  True, False,  True, False, False,\n",
              "        True])"
            ]
          },
          "metadata": {},
          "execution_count": 7
        }
      ],
      "source": [
        "# code explanation:\n",
        "# the expression used inside [] is boolean indexing.\n",
        "# the symbol ~ inverts the boolean values (from True to False and viceversa)\n",
        "~a_b_together.index.isin(s_a.index)"
      ]
    },
    {
      "cell_type": "markdown",
      "source": [
        "### 2.3. We look at the difference between the two new random samples"
      ],
      "metadata": {
        "id": "32jHsH1WPYNf"
      }
    },
    {
      "cell_type": "code",
      "source": [
        "s_a.mean()"
      ],
      "metadata": {
        "colab": {
          "base_uri": "https://localhost:8080/"
        },
        "id": "IcOHmlIGPHNb",
        "outputId": "72955265-3f5a-41ef-8c70-94631227b53a"
      },
      "execution_count": null,
      "outputs": [
        {
          "output_type": "execute_result",
          "data": {
            "text/plain": [
              "1.4962955368181818"
            ]
          },
          "metadata": {},
          "execution_count": 8
        }
      ]
    },
    {
      "cell_type": "code",
      "source": [
        "s_b.mean()"
      ],
      "metadata": {
        "colab": {
          "base_uri": "https://localhost:8080/"
        },
        "id": "PJvLqlGmPVtn",
        "outputId": "3665b3ef-83d1-41f6-8402-b58b2319bb3e"
      },
      "execution_count": null,
      "outputs": [
        {
          "output_type": "execute_result",
          "data": {
            "text/plain": [
              "1.4201583400000002"
            ]
          },
          "metadata": {},
          "execution_count": 9
        }
      ]
    },
    {
      "cell_type": "code",
      "source": [
        "s_a.mean() - s_b.mean()"
      ],
      "metadata": {
        "colab": {
          "base_uri": "https://localhost:8080/"
        },
        "id": "g-MhnBZjPXwU",
        "outputId": "682a0424-74ad-4367-a010-e6a8a25e55d1"
      },
      "execution_count": null,
      "outputs": [
        {
          "output_type": "execute_result",
          "data": {
            "text/plain": [
              "0.07613719681818165"
            ]
          },
          "metadata": {},
          "execution_count": 10
        }
      ]
    },
    {
      "cell_type": "markdown",
      "source": [
        "- There is indeed a difference between these two new \"artificial\" fields we have created. \n",
        "\n",
        "- This difference is created by chance: both fields were sampled from the same population and randomness is the only responsible for the difference. \n",
        "\n",
        "- What we have done is a single iteration of a permutation test. If you run the code above again a few times you will be able to observe how big or small are differences created by chance.\n",
        "\n",
        "- We will now run many iterations using a `for` loop, and count how often does it happen that we observe, by chance, a difference equal bigger than the real difference between the original samples of field A and field B, `0.3`. \n",
        "\n",
        "- The proportion of times that happens will be our p-value: *the probability of observing a difference bigger than `0.3`, under the assumption that the Null Hypothesis is true.*"
      ],
      "metadata": {
        "id": "F0h6v-Z1PDMx"
      }
    },
    {
      "cell_type": "markdown",
      "source": [
        "### 2.4. Perform many iterations of the permutation test"
      ],
      "metadata": {
        "id": "Rq3YCABWRlTW"
      }
    },
    {
      "cell_type": "code",
      "execution_count": null,
      "metadata": {
        "id": "ROeaLVqebSxR"
      },
      "outputs": [],
      "source": [
        "dif_means = [] # create an empty list to store differences of the means\n",
        "iterations = 10000 # define number of iterations in the permutation test\n",
        "\n",
        "for i in range(iterations):\n",
        "    # from that single \"box\", take 2 new random samples (same size as sample A and sample B)\n",
        "    s_a = a_b_together.sample(len(f_a))\n",
        "    s_b = a_b_together[~a_b_together.index.isin(s_a.index)]\n",
        "    \n",
        "    # get the difference of the means of these new 2 samples\n",
        "    dif_means.append(s_a.mean()-s_b.mean())"
      ]
    },
    {
      "cell_type": "markdown",
      "source": [
        "### 2.5. Compute the p-value\n",
        "\n",
        "To compute the p-value, we first count how many times we obtained, by chance, a difference bigger than the original (0.3).\n",
        "\n",
        "Then we divide that count by the amount of iterations we've run."
      ],
      "metadata": {
        "id": "rukMZODKSWIj"
      }
    },
    {
      "cell_type": "code",
      "source": [
        "# look at how extreme our original difference is (0.3)\n",
        "original_difference = 0.3\n",
        "count = 0\n",
        "\n",
        "for d in dif_means:\n",
        "    if d > original_difference:\n",
        "        count += 1\n",
        "    if d < -original_difference:\n",
        "        count += 1\n",
        "print(\"number of extreme cases:\", count)\n",
        "print(\"p value:\", count / iterations)"
      ],
      "metadata": {
        "colab": {
          "base_uri": "https://localhost:8080/"
        },
        "id": "VtIqtzKTSTI-",
        "outputId": "aa643168-84a8-4fd7-ff5d-bee919ab8dc7"
      },
      "execution_count": null,
      "outputs": [
        {
          "output_type": "stream",
          "name": "stdout",
          "text": [
            "number of extreme cases: 195\n",
            "p value: 0.0195\n"
          ]
        }
      ]
    },
    {
      "cell_type": "markdown",
      "source": [
        "### 2.6. Visualize the difference of sample means\n",
        "\n",
        "What distribution do you think the differences of sample means we obtained in our permutation test will follow?"
      ],
      "metadata": {
        "id": "1eJUIhIYTEMo"
      }
    },
    {
      "cell_type": "code",
      "execution_count": null,
      "metadata": {
        "id": "FtY6EFMVbSxR"
      },
      "outputs": [],
      "source": [
        "import seaborn as sns\n",
        "import matplotlib.pyplot as plt"
      ]
    },
    {
      "cell_type": "code",
      "execution_count": null,
      "metadata": {
        "colab": {
          "base_uri": "https://localhost:8080/",
          "height": 385
        },
        "id": "LCy2aw2LbSxS",
        "outputId": "f504df90-0ddc-45c1-9fc7-8c2154813579"
      },
      "outputs": [
        {
          "output_type": "display_data",
          "data": {
            "text/plain": [
              "<Figure size 360x360 with 1 Axes>"
            ],
            "image/png": "[encoded data removed]"
          },
          "metadata": {
            "needs_background": "light"
          }
        }
      ],
      "source": [
        "sns.displot(dif_means, bins=30, linewidth=0);\n",
        "plt.axvline(-0.3, linestyle=\"--\", ymax=0.9);\n",
        "plt.axvline(0.3, linestyle=\"--\", ymax=0.9);\n",
        "plt.title(\"Difference of the means in permutations\");\n",
        "plt.ylabel(\"\");\n",
        "sns.despine(left=True);\n",
        "plt.yticks([], []);"
      ]
    },
    {
      "cell_type": "markdown",
      "source": [
        "The distribution is normal: the Central Limit Theorem also applies here!"
      ],
      "metadata": {
        "id": "S015aNm3jjgp"
      }
    },
    {
      "cell_type": "markdown",
      "metadata": {
        "id": "Q5eGmI_JbSxS"
      },
      "source": [
        "## 3. Using scipy:\n",
        "\n",
        "Scipy has an adaptation of the t-test called the \"Welch's t-test\", which is more reliable for samples with different variances and/or sample sizes: https://en.wikipedia.org/wiki/Welch%27s_t-test\n",
        "\n",
        "That's why we will get slightly different statistic and p-values."
      ]
    },
    {
      "cell_type": "code",
      "execution_count": null,
      "metadata": {
        "colab": {
          "base_uri": "https://localhost:8080/"
        },
        "id": "y0EZLD5SbSxS",
        "outputId": "f006439a-8b46-40a5-f83d-0552e21f4462"
      },
      "outputs": [
        {
          "output_type": "execute_result",
          "data": {
            "text/plain": [
              "Ttest_indResult(statistic=-2.4358329090845103, pvalue=0.0189763029680601)"
            ]
          },
          "metadata": {},
          "execution_count": 15
        }
      ],
      "source": [
        "stats.ttest_ind(f_a, \n",
        "                f_b,\n",
        "                equal_var=True)"
      ]
    },
    {
      "cell_type": "markdown",
      "metadata": {
        "id": "v3dziGWlbSxS"
      },
      "source": [
        "## 4. Exercise: \n",
        "\n",
        "You have created an an experiment with two variants of a webpage. The metric you are comparing is the session time each user stays in the page. \n",
        "\n",
        "If your significance level is 90%, is there a statistically significance difference between the two pages?"
      ]
    },
    {
      "cell_type": "code",
      "execution_count": null,
      "metadata": {
        "colab": {
          "base_uri": "https://localhost:8080/",
          "height": 206
        },
        "id": "w5ePl2b9bSxT",
        "outputId": "653bb6a5-f35a-4ad7-95b0-9aac90ccf680"
      },
      "outputs": [
        {
          "output_type": "execute_result",
          "data": {
            "text/plain": [
              "     Page   Time\n",
              "0  Page A   21.0\n",
              "1  Page B  253.0\n",
              "2  Page A   35.0\n",
              "3  Page B   71.0\n",
              "4  Page A   67.0"
            ],
            "text/html": [
              "\n",
              "  <div id=\"df-3da205a3-645b-4c85-8d6b-191358de3f84\">\n",
              "    <div class=\"colab-df-container\">\n",
              "      <div>\n",
              "<style scoped>\n",
              "    .dataframe tbody tr th:only-of-type {\n",
              "        vertical-align: middle;\n",
              "    }\n",
              "\n",
              "    .dataframe tbody tr th {\n",
              "        vertical-align: top;\n",
              "    }\n",
              "\n",
              "    .dataframe thead th {\n",
              "        text-align: right;\n",
              "    }\n",
              "</style>\n",
              "<table border=\"1\" class=\"dataframe\">\n",
              "  <thead>\n",
              "    <tr style=\"text-align: right;\">\n",
              "      <th></th>\n",
              "      <th>Page</th>\n",
              "      <th>Time</th>\n",
              "    </tr>\n",
              "  </thead>\n",
              "  <tbody>\n",
              "    <tr>\n",
              "      <th>0</th>\n",
              "      <td>Page A</td>\n",
              "      <td>21.0</td>\n",
              "    </tr>\n",
              "    <tr>\n",
              "      <th>1</th>\n",
              "      <td>Page B</td>\n",
              "      <td>253.0</td>\n",
              "    </tr>\n",
              "    <tr>\n",
              "      <th>2</th>\n",
              "      <td>Page A</td>\n",
              "      <td>35.0</td>\n",
              "    </tr>\n",
              "    <tr>\n",
              "      <th>3</th>\n",
              "      <td>Page B</td>\n",
              "      <td>71.0</td>\n",
              "    </tr>\n",
              "    <tr>\n",
              "      <th>4</th>\n",
              "      <td>Page A</td>\n",
              "      <td>67.0</td>\n",
              "    </tr>\n",
              "  </tbody>\n",
              "</table>\n",
              "</div>\n",
              "      <button class=\"colab-df-convert\" onclick=\"convertToInteractive('df-3da205a3-645b-4c85-8d6b-191358de3f84')\"\n",
              "              title=\"Convert this dataframe to an interactive table.\"\n",
              "              style=\"display:none;\">\n",
              "        \n",
              "  <svg xmlns=\"http://www.w3.org/2000/svg\" height=\"24px\"viewBox=\"0 0 24 24\"\n",
              "       width=\"24px\">\n",
              "    <path d=\"M0 0h24v24H0V0z\" fill=\"none\"/>\n",
              "    <path d=\"M18.56 5.44l.94 2.06.94-2.06 2.06-.94-2.06-.94-.94-2.06-.94 2.06-2.06.94zm-11 1L8.5 8.5l.94-2.06 2.06-.94-2.06-.94L8.5 2.5l-.94 2.06-2.06.94zm10 10l.94 2.06.94-2.06 2.06-.94-2.06-.94-.94-2.06-.94 2.06-2.06.94z\"/><path d=\"M17.41 7.96l-1.37-1.37c-.4-.4-.92-.59-1.43-.59-.52 0-1.04.2-1.43.59L10.3 9.45l-7.72 7.72c-.78.78-.78 2.05 0 2.83L4 21.41c.39.39.9.59 1.41.59.51 0 1.02-.2 1.41-.59l7.78-7.78 2.81-2.81c.8-.78.8-2.07 0-2.86zM5.41 20L4 18.59l7.72-7.72 1.47 1.35L5.41 20z\"/>\n",
              "  </svg>\n",
              "      </button>\n",
              "      \n",
              "  <style>\n",
              "    .colab-df-container {\n",
              "      display:flex;\n",
              "      flex-wrap:wrap;\n",
              "      gap: 12px;\n",
              "    }\n",
              "\n",
              "    .colab-df-convert {\n",
              "      background-color: #E8F0FE;\n",
              "      border: none;\n",
              "      border-radius: 50%;\n",
              "      cursor: pointer;\n",
              "      display: none;\n",
              "      fill: #1967D2;\n",
              "      height: 32px;\n",
              "      padding: 0 0 0 0;\n",
              "      width: 32px;\n",
              "    }\n",
              "\n",
              "    .colab-df-convert:hover {\n",
              "      background-color: #E2EBFA;\n",
              "      box-shadow: 0px 1px 2px rgba(60, 64, 67, 0.3), 0px 1px 3px 1px rgba(60, 64, 67, 0.15);\n",
              "      fill: #174EA6;\n",
              "    }\n",
              "\n",
              "    [theme=dark] .colab-df-convert {\n",
              "      background-color: #3B4455;\n",
              "      fill: #D2E3FC;\n",
              "    }\n",
              "\n",
              "    [theme=dark] .colab-df-convert:hover {\n",
              "      background-color: #434B5C;\n",
              "      box-shadow: 0px 1px 3px 1px rgba(0, 0, 0, 0.15);\n",
              "      filter: drop-shadow(0px 1px 2px rgba(0, 0, 0, 0.3));\n",
              "      fill: #FFFFFF;\n",
              "    }\n",
              "  </style>\n",
              "\n",
              "      <script>\n",
              "        const buttonEl =\n",
              "          document.querySelector('#df-3da205a3-645b-4c85-8d6b-191358de3f84 button.colab-df-convert');\n",
              "        buttonEl.style.display =\n",
              "          google.colab.kernel.accessAllowed ? 'block' : 'none';\n",
              "\n",
              "        async function convertToInteractive(key) {\n",
              "          const element = document.querySelector('#df-3da205a3-645b-4c85-8d6b-191358de3f84');\n",
              "          const dataTable =\n",
              "            await google.colab.kernel.invokeFunction('convertToInteractive',\n",
              "                                                     [key], {});\n",
              "          if (!dataTable) return;\n",
              "\n",
              "          const docLinkHtml = 'Like what you see? Visit the ' +\n",
              "            '<a target=\"_blank\" href=https://colab.research.google.com/notebooks/data_table.ipynb>data table notebook</a>'\n",
              "            + ' to learn more about interactive tables.';\n",
              "          element.innerHTML = '';\n",
              "          dataTable['output_type'] = 'display_data';\n",
              "          await google.colab.output.renderOutput(dataTable, element);\n",
              "          const docLink = document.createElement('div');\n",
              "          docLink.innerHTML = docLinkHtml;\n",
              "          element.appendChild(docLink);\n",
              "        }\n",
              "      </script>\n",
              "    </div>\n",
              "  </div>\n",
              "  "
            ]
          },
          "metadata": {},
          "execution_count": 16
        }
      ],
      "source": [
        "import pandas as pd\n",
        "\n",
        "# session_times.csv\n",
        "url = 'https://drive.google.com/file/d/1nYRMCgv3OKaiIUDBPgq-EnE2sWhgrJI3/view?usp=sharing' \n",
        "path = 'https://drive.google.com/uc?export=download&id='+url.split('/')[-2]\n",
        "session_times = pd.read_csv(path)\n",
        "\n",
        "session_times.head()"
      ]
    },
    {
      "cell_type": "code",
      "execution_count": null,
      "metadata": {
        "colab": {
          "base_uri": "https://localhost:8080/"
        },
        "id": "Wbjd474ObSxT",
        "outputId": "cc85c17a-0ed9-4306-cc12-c01bacdcd67e"
      },
      "outputs": [
        {
          "output_type": "execute_result",
          "data": {
            "text/plain": [
              "Page A    21\n",
              "Page B    15\n",
              "Name: Page, dtype: int64"
            ]
          },
          "metadata": {},
          "execution_count": 17
        }
      ],
      "source": [
        "session_times.Page.value_counts()"
      ]
    },
    {
      "cell_type": "markdown",
      "source": [
        "### Exercise solution\n",
        "\n",
        "Follow these steps\n",
        "\n",
        "1. Find the observed difference between the mean session time fo the two pages.\n",
        "\n",
        "2. Establish the Null and the Alternative Hypotheses.\n",
        "\n",
        "3. Define your alpha.\n",
        "\n",
        "4. Filter the dataframe `session_times` so that you can have two Pandas Series with the session times for Paga A and Page B.\n",
        "\n",
        "5. Use Scipy to find the p-value.\n",
        "\n",
        "6. State the result of the experiment and the interpretation of the p-value."
      ],
      "metadata": {
        "id": "23Pd9zrwk7RK"
      }
    },
    {
      "cell_type": "code",
      "source": [
        "# your solution here"
      ],
      "metadata": {
        "id": "QkiqE065ldfs"
      },
      "execution_count": null,
      "outputs": []
    },
    {
      "cell_type": "markdown",
      "source": [
        "#### 1. Find the observed difference between the mean session time fo the two pages."
      ],
      "metadata": {
        "id": "oXHfS_S0l0co"
      }
    },
    {
      "cell_type": "code",
      "source": [
        "time_by_session = session_times.groupby(\"Page\")[\"Time\"].mean()\n",
        "time_by_session"
      ],
      "metadata": {
        "colab": {
          "base_uri": "https://localhost:8080/"
        },
        "id": "xMb0wzPul6uE",
        "outputId": "016a9a54-e690-4911-cf91-44c2c0cfe0c8"
      },
      "execution_count": null,
      "outputs": [
        {
          "output_type": "execute_result",
          "data": {
            "text/plain": [
              "Page\n",
              "Page A    126.333333\n",
              "Page B    162.000000\n",
              "Name: Time, dtype: float64"
            ]
          },
          "metadata": {},
          "execution_count": 32
        }
      ]
    },
    {
      "cell_type": "code",
      "source": [
        "observed_difference = time_by_session[0] - time_by_session[1]\n",
        "abs(observed_difference)"
      ],
      "metadata": {
        "colab": {
          "base_uri": "https://localhost:8080/"
        },
        "id": "sZZuLEhwmGPU",
        "outputId": "293ef69c-9f94-4830-f782-a5647829f391"
      },
      "execution_count": null,
      "outputs": [
        {
          "output_type": "execute_result",
          "data": {
            "text/plain": [
              "35.66666666666667"
            ]
          },
          "metadata": {},
          "execution_count": 38
        }
      ]
    },
    {
      "cell_type": "markdown",
      "source": [
        "#### 2. Establish the Null and the Alternative Hypotheses."
      ],
      "metadata": {
        "id": "nOO8McpLmWON"
      }
    },
    {
      "cell_type": "markdown",
      "source": [
        "- Null Hypothesis: difference between session times of Page A and Page B = 0\n",
        "\n",
        "- Alternative Hypothesis: difference between session times of Page A and Page B != 0"
      ],
      "metadata": {
        "id": "HmRk8H8ejsHI"
      }
    },
    {
      "cell_type": "markdown",
      "source": [
        "#### 3. Define and interpret your alpha."
      ],
      "metadata": {
        "id": "GDoR1D8tmk7w"
      }
    },
    {
      "cell_type": "markdown",
      "source": [
        "Our significance level was set to 90%.\n",
        "\n",
        "- Alpha = 1 - significance level = 1 - 0.9 = `0.1`\n",
        "\n",
        "If our p-value is lower than `0.1` we will reject the Null Hypothesis. If our p-value is higher than `0.1` we will fail to reject it."
      ],
      "metadata": {
        "id": "2tJxz3nymgz6"
      }
    },
    {
      "cell_type": "markdown",
      "source": [
        "#### 4. Filter the dataframe `session_times` so that you can have two Pandas Series with the session times for Paga A and Page B."
      ],
      "metadata": {
        "id": "icBF7GlSnOnG"
      }
    },
    {
      "cell_type": "code",
      "execution_count": null,
      "metadata": {
        "id": "PedVbJFnbSxT"
      },
      "outputs": [],
      "source": [
        "page_A = session_times.loc[session_times.Page==\"Page A\", \n",
        "                           \"Time\"]\n",
        "page_B = session_times.loc[session_times.Page==\"Page B\", \n",
        "                           \"Time\"]"
      ]
    },
    {
      "cell_type": "markdown",
      "source": [
        "#### 5. Use Scipy to find the p-value."
      ],
      "metadata": {
        "id": "9a3GUYAAk5MT"
      }
    },
    {
      "cell_type": "code",
      "source": [
        "t_statistic, p_value = stats.ttest_ind(page_A, \n",
        "                                       page_B)\n",
        "print(\"p-value:\", p_value)"
      ],
      "metadata": {
        "colab": {
          "base_uri": "https://localhost:8080/"
        },
        "id": "DAwxHNVknU_7",
        "outputId": "f6c7d0a4-582c-4c85-89dd-f4479ba4144f"
      },
      "execution_count": null,
      "outputs": [
        {
          "output_type": "stream",
          "name": "stdout",
          "text": [
            "p-value: 0.2690102436392606\n"
          ]
        }
      ]
    },
    {
      "cell_type": "markdown",
      "source": [
        "#### 6. State the result of the experiment and the interpretation of the p-value.\n",
        "\n",
        "**Experiment data:**\n",
        "\n",
        "* null hypothesis: `d = 0`\n",
        "* observed difference `d = 35.7`\n",
        "* alpha = `0.1`\n",
        "* p-value = `0.27`\n",
        "\n",
        "Since p-value > alpha, **we fail to reject the Null Hypothesis.**\n",
        "\n",
        "**Interpretation of the p-value**: \n",
        "* the probability of collecting data with a difference equal or larger than our observed difference (`35.7`), under the assumption that the null hypothesis is true (`d = 0`) is `27%`. \n",
        "* This is a large probability, way larger than the threshold that we set to ourselves (`0.1`), and therefore we consider that the null hypothesis is plausible: we do not reject the hypothesis that the observed difference in session times between pages A and B is due to chance."
      ],
      "metadata": {
        "id": "lNeIB0tAkKrn"
      }
    }
  ],
  "metadata": {
    "kernelspec": {
      "display_name": "Python 3",
      "language": "python",
      "name": "python3"
    },
    "language_info": {
      "codemirror_mode": {
        "name": "ipython",
        "version": 3
      },
      "file_extension": ".py",
      "mimetype": "text/x-python",
      "name": "python",
      "nbconvert_exporter": "python",
      "pygments_lexer": "ipython3",
      "version": "3.8.5"
    },
    "toc": {
      "base_numbering": 1,
      "nav_menu": {},
      "number_sections": true,
      "sideBar": true,
      "skip_h1_title": false,
      "title_cell": "Table of Contents",
      "title_sidebar": "Contents",
      "toc_cell": false,
      "toc_position": {},
      "toc_section_display": true,
      "toc_window_display": false
    },
    "varInspector": {
      "cols": {
        "lenName": 16,
        "lenType": 16,
        "lenVar": 40
      },
      "kernels_config": {
        "python": {
          "delete_cmd_postfix": "",
          "delete_cmd_prefix": "del ",
          "library": "var_list.py",
          "varRefreshCmd": "print(var_dic_list())"
        },
        "r": {
          "delete_cmd_postfix": ") ",
          "delete_cmd_prefix": "rm(",
          "library": "var_list.r",
          "varRefreshCmd": "cat(var_dic_list()) "
        }
      },
      "types_to_exclude": [
        "module",
        "function",
        "builtin_function_or_method",
        "instance",
        "_Feature"
      ],
      "window_display": false
    },
    "colab": {
      "name": "4.1__2-samples-t-test-solutions.ipynb",
      "provenance": [],
      "collapsed_sections": []
    }
  },
  "nbformat": 4,
  "nbformat_minor": 0
}